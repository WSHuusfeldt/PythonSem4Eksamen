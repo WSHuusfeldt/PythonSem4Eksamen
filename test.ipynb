{
 "cells": [
  {
   "cell_type": "code",
   "execution_count": 2,
   "metadata": {
    "tags": [
     "outputPrepend"
    ]
   },
   "outputs": [],
   "source": [
    "import requests\n",
    "import bs4\n",
    "import pickle\n",
    "\n",
    "urls = [\n",
    "    \"https://www.nytimes.com/interactive/2020/01/31/us/politics/pete-buttigieg-campaign-speech.html\",\n",
    "    \"https://www.nytimes.com/interactive/2020/01/31/us/politics/joe-biden-campaign-speech.html\",\n",
    "    \"https://www.nytimes.com/interactive/2020/01/31/us/politics/amy-klobuchar-campaign-speech.html\",\n",
    "    \"https://www.nytimes.com/interactive/2020/01/31/us/politics/bernie-sanders-campaign-speech.html\",\n",
    "    \"https://www.nytimes.com/interactive/2020/01/31/us/politics/elizabeth-warren-campaign-speech.html\",\n",
    "    \"https://www.nytimes.com/interactive/2020/01/31/us/politics/andrew-yang-campaign-speech.html\"]\n",
    "\n",
    "def url_to_transcript(url):\n",
    "    r =  requests.get(url)\n",
    "    soup = bs4.BeautifulSoup(r.text, \"html.parser\")\n",
    "    content = soup.find_all('p', attrs={'class': 'g-body'})\n",
    "    text = \"\"\n",
    "    for txt in content:\n",
    "        text += txt.text\n",
    "    return text\n",
    "    \n",
    "democrats = [\"Pete Buttigieg\", \"Joe Biden\", \"Amy Klobuchar\", \"Bernie Sanders\", \"Elizabeth Warren\", \"Andrew Yang\"]\n"
   ]
  },
  {
   "cell_type": "code",
   "execution_count": 3,
   "metadata": {},
   "outputs": [],
   "source": [
    "# Requests to transcripts\n",
    "transcripts = [url_to_transcript(u) for u in urls]"
   ]
  },
  {
   "cell_type": "code",
   "execution_count": 4,
   "metadata": {},
   "outputs": [
    {
     "output_type": "stream",
     "name": "stderr",
     "text": "A subdirectory or file transcripts already exists.\n"
    }
   ],
   "source": [
    "# Pickle for later use\n",
    "!mkdir transcripts\n",
    "for i, c in enumerate(democrats):\n",
    "    with open(\"transcripts/\" + c + \".txt\", \"wb\") as file:\n",
    "        pickle.dump(transcripts[i], file)"
   ]
  },
  {
   "cell_type": "code",
   "execution_count": 5,
   "metadata": {},
   "outputs": [],
   "source": [
    "# Read pickle for use\n",
    "data = {}\n",
    "for i, c in enumerate(democrats):\n",
    "    with open(\"transcripts/\" + c + \".txt\", \"rb\") as file:\n",
    "        data[c] = pickle.load(file)"
   ]
  },
  {
   "cell_type": "code",
   "execution_count": 6,
   "metadata": {},
   "outputs": [
    {
     "output_type": "execute_result",
     "data": {
      "text/plain": "\"\\n\\tFormer Vice President Joseph R. Biden Jr. casts himself as an experienced hand who can appeal to black voters nationwide and win in the Midwest. On the campaign trail, he rarely delivers the same stump speech verbatim — he often goes on tangents and sometimes cuts himself off. But his core themes include rebuking President Trump’s leadership and fighting for the middle class.\\n\\n\\tBelow is a speech he gave as tensions with Iran escalated. The speech focuses more on foreign policy than usual, but it offers a window into his message. It has been excerpted in places for clarity. Mr. Biden appeared with Representative Abby Finkenauer, Democrat of Iowa, who has endorsed him.\\n\\n\\n\\n\\tI tell you what. Having, having the congresswoman from the First District go out of her way like she has for me has made a great deal of difference to me. It’s one of the most coveted endorsements anybody looks for.\\n\\nHey man, how you doing? Good to see you guys. I tell you what, two great friends. Anyway.\\n\\n\\tOne of the most coveted endorsements anyone could have in this state. And, and she’s been a great, great help to me and given me a lot of insight about not just the First District, but Iowa as well.\\n\\n\\tYou know we ... we have a similar background. We’re only one or two years apart, you know.\\n\\n\\t…We used to have a saying, I think we, our grandfathers must have been related, because after 10:30 Mass at St Paul’s in Scranton, everybody’d go back to my grandpop’s house and sit around the kitchen table and argue politics and sports.\\n\\n\\tAnd my grandpop was the one who convinced me and taught me, and I learned at his table, that every single, solitary person in the country, any, every person we knew, no one was better than me. But I was no better than anybody else. And the line that I learned from my dad, I'm not joking about this...\\n\\n\\t… The word most often used — most often-used adjective — was dignity. Everyone, everyone, is entitled to be treated with dignity, no matter where they come from, no matter what their background, what their race, religion or ethnicity. \\n\\n\\tFolks it is, it’s what Iowa’s about. As I travel, I’ve been to all 99 counties over my career here campaigning, going back, campaigning for John Culver and others in the state over the years. \\n\\n\\tAnd Iowa is about basic, fundamental values. May sound corny but it’s true. Think about it.\\n\\n\\t[Mr. Biden goes on to say that he has] met personally every major world leader in the last 40 years. They somehow think we’re kind of naïve. We talk about fairness, we talk about decency, we talk about honesty.\\n\\n\\tWhat is it that we’re missing these days? We don’t spend a lot of time connecting to one another. We have a president who goes out of his way to try to divide us based on our race, based on our religion. Based on where we come from. You know, it’s just, to me, it’s something that is, is extremely, extremely worrisome. We found ourselves ... because I’m looking forward to having questions, I’m going to be particularly brief here — but I ran for three reasons when I announced for the United States presidency, for the nomination.\\n\\n\\tActually, the first reason was to restore the soul of the nation. You know, when you saw, when I saw … I came out of the civil rights movement as a kid, in my state of Delaware, the eighth-largest African-American population in the country. And, and it was segregated when I moved from Scranton when there was no work, my dad had to go to, move to Delaware to find a job.\\n\\n\\tAnd, you know, it’s amazing. I never thought I’d see the day again when we found ourselves, people coming out of the fields carrying torches in Charlottesville … close your eyes and picture what you saw on television. Their veins, their veins literally bulging, screaming  and shouting hate and bile … carrying Nazi flags and making sure that they talked about white supremacy … the Ku Klux Klan.\\n\\n\\tDavid Duke, the head of the Klan, said, “This is why we elected him.” A young woman gets killed in the melee, and the president is asked, ‘What do you think of that?’ And his response was a response no president’s ever given. He said there were “very fine people on both sides.” Very fine people on both sides. No one, with the possible exception of Andrew Jackson … ever said anything remotely like that.\\n\\n\\tAnd everything has been about dividing us, not uniting us. And so I wrote an article back then for The Atlantic magazine saying we have to restore the soul of America and that includes … expanding the promise of America, to black and brown Americans.\\n\\n\\tFolks there’s so much, so much we have to correct. But we can.\\n\\n\\tI said the second reason I was running is to rebuild the middle class because it’s getting clobbered. I know the stock market’s sky high, I get that. But I know the tax cut has helped very few people and helped them a great deal.\\n\\n\\tBut what's happening? The middle class is getting clobbered. They’re getting clobbered.\\n\\n\\tThe majority of people in the middle class today think their children will never have the same standard of living they had. First time in American history we're no longer, the last hundred years, we're no longer the wealthiest middle class in the world.\\n\\n\\tWe now are in a position where, studies show if a person received, if a middle class family\\n\\n\\treceived an unexpected bill for $400 in one month, they’d have to borrow the money ... to be able to make it. There’s not a whole lot of breathing room, not a whole lot of breathing room.\\n\\n\\tWe have to rebuild and this time bring everybody along.\\n\\n\\tWhether you’re … handicapped, whether you have a problem, whatever your issue is, everybody’s got to have a chance. Look, Wall Street didn’t build America. The middle class built America, and unions built the middle class.\\n\\n\\tAnd, as was mentioned by the congresswoman, the third reason I ran is that we have to unite this country. Look, you know, that’s what I’ll do as your presidential nominee if I’m your nominee. Unite the country. Because guess what. We can’t do it any other way. The way our whole system is built … on … a consensus to be reached. We can’t do it, without abusing power, without generating consensus. And we can do that.\\n\\n\\tIf we stop questioning people’s motives, we start to argue with them about the substance of our disagreement.\\n\\n\\tIf I turn around and say, “You’re in the pocket of,” or “you’re unethical,” “or you’re this” and say by the way, “Let’s figure out how to build more roads and airports for transportation and deal with global warming” — fat chance. But if I disagree with you on the substance of what you say, we argue like the devil. We can then reach an agreement, based on what we disagree on, as long as you don’t go after each other in a mean way. I promise you, we can do it, I’ve done it my whole career.\\n\\n\\tI would be remiss if I didn’t speak just a few minutes, before we go to questions, about Iran.\\n\\n\\tFirst, as we go forward, let me make it clear: President Trump has no authority to take us to military conflict with Iran, period.\\n\\n\\t… Informed consent. Informed consent of the American people ...The bottom line is, any further action against Iran requires congressional authorization, and I support the efforts by Congress to insist and assert their constitutional prerogative.\\n\\n\\t… He does not have the authority to take us to war, another war in the Middle East and they’ll oppose him if he attempts to do so. The second point I’ll make is, let's not forget how we got here … And I’m not the only one, but I predicted it six months ago, that this president, this president would in fact, when he canceled the nuclear deal which I and others in my, in our, administration helped put together, that was being enforced, remember what he said. He said what we're going to do is we're going to walk away from that commitment. We’re going to act as America first. What did it do? It put us last. It stood up our allies.\\n\\n\\tWe find ourselves in a position where allies have worked against us. They no longer are prepared to support us because we have walked away and Iran has begun the process of trying to get a nuclear weapon, which there was no possibility of them getting without us knowing well two years in advance, of doing the most intrusive regime ever set forward … It was predictable what would happen, making America first, in his view, put America alone. And so folks, it's not a surprise that this cycle, this cycle of violence began.\\n\\n\\tAnd third. Suleimani, who headed up the Quds force, their, their special forces in Iran. He does have American blood on his hands, so don’t mourn his passing.\\n\\n\\tBut the administration has given us no confidence they have any plan or strategy in place, for what to do next. None.\\n\\n\\tThis president said he’s made us safer. Yet they’re ordering the evacuation of American citizens from Iraq and around the entire region.\\n\\n\\tHe said he did this to stop a war. It’s moved us precipitously close to an all-out war. We’re sending a thousand more troops, combat troops into the area. And if, God forbid, war breaks out, we will send … over 100,000 troops. And we’re not talking about a nation of six million people. Forty million people.\\n\\n\\tYou’re a veteran of Vietnam, I want to thank you for your service. And the last thing we need is another war in the Middle East. And folks —\\n\\n\\tMy greatest worry is, does anyone have confidence that Donald Trump has thought through what the next steps are?\\n\\nAudience No!\\n\\n\\tThink about it. I know, it almost sounds, you know, I spent my whole life doing national security and foreign policy. As chairman of the Foreign Relations Committee, and the reason why President Obama picked me, was because my background in national security and foreign policy ...\\n\\n\\tYou don’t do things this way. There’s no evidence, think what’s happening. Our very NATO allies are chasing both us and Iran, at the same time saying, “Neither one of you should do anything.” They’re our allies. No one’s saying, “If Americans attack, now, we're going to go to its defense.” What's going on here?\\n\\n\\tHas he thought through the second and third layers what happens? No one should engage in this kind of activity unless they’ve thought through what the next steps are.\\n\\n\\t… All this just reinforces the stakes of this election in my view. That’s why it’s so important to elect someone who’s already ready on Day One. And immediately, to be commander in chief of our armed forces. And get to work repairing our relationships around the world because our alliances are in jeopardy and therefore our security is in jeopardy. We need to have, provide a steady, stable, experienced leadership. With all due respect, I think I’m best prepared, with all the difficulties we face.\\n\\n\\tWhen I got elected as a 29-year-old kid to the United States Senate, I wasn't even old enough to be sworn in. And I was characterized as a young, idealistic, optimistic young guy. I give you my word as a Biden, I’m more optimistic about America’s chances of leading the world today than I have ever been in my entire career.\\n\\n\\tWe have the greatest research universities in the world, we have more great research, great research universities here, than all the rest of the world combined. Every major change that could affect this beautiful young woman’s life, comes out of those research universities.\\n\\n\\tIt doesn’t come from businesses — it’s monetized by businesses, but it comes from the incredible intellectual capital we have. We lead the world by a long shot. We’re the wealthiest nation in the history of the world. And if we invest in our people, we invest in our people, we can maintain our standing in the world, and provide an opportunity for people to succeed and us to be a benefit to the rest of the world at the same time. We have the most productive workers in the world. Workers in the United States are three times as productive as workers in Asia. Fact. Fact.\\n\\n\\tWe find ourselves in a position where we are better positioned than any other nation in the world, compared to any other country.\\n\\n\\tBut we are so much better-positioned. China. China doesn’t have enough water to make sure its people have enough to drink. Not a joke. They’re talking about a multibillion-dollar project to turn around rivers, to be able to find water for the people. I’m not happy about that. But they have a problem. They have a million Uighurs who are in concentration camps in the west, Muslims. You see what’s happening in Hong Kong …\\n\\n\\tThey’re divided east and west. That’s not a good thing. But the idea that China’s going to overtake the United States of America?\\n\\n\\tIf we invest in our people, we can help, we can help move the world in the right direction, without sending thousands of troops. Folks, we’re the most powerful military in the history of the world. That’s not hyperbole, it’s a fact.\\n\\n\\tThat’s not the reason why we lead the world. We lead the world because, not the example of our power but the power of our example.\\n\\nLet me conclude by saying, this is the United States of America. There has never been a time, never, never, never, and it's not hyperbole, when we’ve set our mind to something we’ve been unable to accomplish it. So it’s time we get up, take back this country and take back the world.\\n\\n\\tThank you all.\\n\""
     },
     "metadata": {},
     "execution_count": 6
    }
   ],
   "source": [
    "#Check if it's usable data\n",
    "data['Joe Biden'][:]"
   ]
  },
  {
   "cell_type": "code",
   "execution_count": 14,
   "metadata": {},
   "outputs": [],
   "source": [
    "# Combines the text\n",
    "def combine_text(list_of_text):\n",
    "    '''Takes a list of text and combines them into one large chunk of text.'''\n",
    "    combined_text = ''.join(list_of_text)\n",
    "    return combined_text"
   ]
  },
  {
   "cell_type": "code",
   "execution_count": 15,
   "metadata": {},
   "outputs": [],
   "source": [
    "# \n",
    "data_combined = {key: [combine_text(value)] for (key, value) in data.items()}"
   ]
  },
  {
   "cell_type": "code",
   "execution_count": 16,
   "metadata": {},
   "outputs": [
    {
     "output_type": "execute_result",
     "data": {
      "text/plain": "                                                                                                                                                             transcript\nAmy Klobuchar     \\n\\tThe central thrust of Senator Amy Klobuchar of Minnesota’s closing message before the Iowa caucuses can be captured in just three words: I can...\nAndrew Yang       \\n\\tThe businessman and entrepreneur Andrew Yang has won support by pitching himself as a numbers-driven truth teller, whose status as a political...\nBernie Sanders    \\n\\tSenator Bernie Sanders of Vermont has delivered a similar stump speech for decades, championing a vision for the country that serves working- ...\nElizabeth Warren  \\n\\tSenator Elizabeth Warren of Massachusetts and President Trump are radically different politicians, but her closing message before the Iowa cau...\nJoe Biden         \\n\\tFormer Vice President Joseph R. Biden Jr. casts himself as an experienced hand who can appeal to black voters nationwide and win in the Midwes...\nPete Buttigieg    \\n\\tPete Buttigieg, the former mayor of South Bend, Ind., delivers a tight stump speech — usually about 12 to 15 minutes long — that is heavy on h...",
      "text/html": "<div>\n<style scoped>\n    .dataframe tbody tr th:only-of-type {\n        vertical-align: middle;\n    }\n\n    .dataframe tbody tr th {\n        vertical-align: top;\n    }\n\n    .dataframe thead th {\n        text-align: right;\n    }\n</style>\n<table border=\"1\" class=\"dataframe\">\n  <thead>\n    <tr style=\"text-align: right;\">\n      <th></th>\n      <th>transcript</th>\n    </tr>\n  </thead>\n  <tbody>\n    <tr>\n      <td>Amy Klobuchar</td>\n      <td>\\n\\tThe central thrust of Senator Amy Klobuchar of Minnesota’s closing message before the Iowa caucuses can be captured in just three words: I can...</td>\n    </tr>\n    <tr>\n      <td>Andrew Yang</td>\n      <td>\\n\\tThe businessman and entrepreneur Andrew Yang has won support by pitching himself as a numbers-driven truth teller, whose status as a political...</td>\n    </tr>\n    <tr>\n      <td>Bernie Sanders</td>\n      <td>\\n\\tSenator Bernie Sanders of Vermont has delivered a similar stump speech for decades, championing a vision for the country that serves working- ...</td>\n    </tr>\n    <tr>\n      <td>Elizabeth Warren</td>\n      <td>\\n\\tSenator Elizabeth Warren of Massachusetts and President Trump are radically different politicians, but her closing message before the Iowa cau...</td>\n    </tr>\n    <tr>\n      <td>Joe Biden</td>\n      <td>\\n\\tFormer Vice President Joseph R. Biden Jr. casts himself as an experienced hand who can appeal to black voters nationwide and win in the Midwes...</td>\n    </tr>\n    <tr>\n      <td>Pete Buttigieg</td>\n      <td>\\n\\tPete Buttigieg, the former mayor of South Bend, Ind., delivers a tight stump speech — usually about 12 to 15 minutes long — that is heavy on h...</td>\n    </tr>\n  </tbody>\n</table>\n</div>"
     },
     "metadata": {},
     "execution_count": 16
    }
   ],
   "source": [
    "# Data is put in a pandas dataframe, this form is called Corpus\n",
    "\n",
    "import pandas as pd\n",
    "pd.set_option('max_colwidth',150)\n",
    "\n",
    "df = pd.DataFrame.from_dict(data_combined).transpose()\n",
    "df.columns = ['transcript']\n",
    "df = df.sort_index()\n",
    "df"
   ]
  },
  {
   "cell_type": "code",
   "execution_count": 21,
   "metadata": {},
   "outputs": [],
   "source": [
    "import re\n",
    "import string\n",
    "\n",
    "# Using regex to remove noise from the texts - should be split into two\n",
    "\n",
    "def clean_data_1(text):\n",
    "    \"\"\" Clean data part 1: Lower case,  \"\"\"\n",
    "    text = text.lower()\n",
    "    text = re.sub('[%s]' % re.escape(string.punctuation), '', text)\n",
    "    text = re.sub('\\w*\\d\\w*', '', text)\n",
    "    text = re.sub('[‘’“”…]', '', text)\n",
    "    text = re.sub('\\n', '', text)\n",
    "    text = re.sub('\\t', '', text)\n",
    "    text = re.sub('\\b', '', text)\n",
    "    text = re.sub('[^a-z ]+', '', text)\n",
    "    text = re.sub('\\s\\s', ' ', text)\n",
    "    return text\n",
    "\n",
    "round1 = lambda x: clean_data_1(x)"
   ]
  },
  {
   "cell_type": "code",
   "execution_count": 22,
   "metadata": {},
   "outputs": [
    {
     "output_type": "execute_result",
     "data": {
      "text/plain": "                                                                                                                                                             transcript\nAmy Klobuchar     the central thrust of senator amy klobuchar of minnesotas closing message before the iowa caucuses can be captured in just three words i can win w...\nAndrew Yang       the businessman and entrepreneur andrew yang has won support by pitching himself as a numbersdriven truth teller whose status as a political outsi...\nBernie Sanders    senator bernie sanders of vermont has delivered a similar stump speech for decades championing a vision for the country that serves working and mi...\nElizabeth Warren  senator elizabeth warren of massachusetts and president trump are radically different politicians but her closing message before the iowa caucuses...\nJoe Biden         former vice president joseph r biden jr casts himself as an experienced hand who can appeal to black voters nationwide and win in the midwest on t...\nPete Buttigieg    pete buttigieg the former mayor of south bend ind delivers a tight stump speech usually about to minutes long that is heavy on his big thematic id...",
      "text/html": "<div>\n<style scoped>\n    .dataframe tbody tr th:only-of-type {\n        vertical-align: middle;\n    }\n\n    .dataframe tbody tr th {\n        vertical-align: top;\n    }\n\n    .dataframe thead th {\n        text-align: right;\n    }\n</style>\n<table border=\"1\" class=\"dataframe\">\n  <thead>\n    <tr style=\"text-align: right;\">\n      <th></th>\n      <th>transcript</th>\n    </tr>\n  </thead>\n  <tbody>\n    <tr>\n      <td>Amy Klobuchar</td>\n      <td>the central thrust of senator amy klobuchar of minnesotas closing message before the iowa caucuses can be captured in just three words i can win w...</td>\n    </tr>\n    <tr>\n      <td>Andrew Yang</td>\n      <td>the businessman and entrepreneur andrew yang has won support by pitching himself as a numbersdriven truth teller whose status as a political outsi...</td>\n    </tr>\n    <tr>\n      <td>Bernie Sanders</td>\n      <td>senator bernie sanders of vermont has delivered a similar stump speech for decades championing a vision for the country that serves working and mi...</td>\n    </tr>\n    <tr>\n      <td>Elizabeth Warren</td>\n      <td>senator elizabeth warren of massachusetts and president trump are radically different politicians but her closing message before the iowa caucuses...</td>\n    </tr>\n    <tr>\n      <td>Joe Biden</td>\n      <td>former vice president joseph r biden jr casts himself as an experienced hand who can appeal to black voters nationwide and win in the midwest on t...</td>\n    </tr>\n    <tr>\n      <td>Pete Buttigieg</td>\n      <td>pete buttigieg the former mayor of south bend ind delivers a tight stump speech usually about to minutes long that is heavy on his big thematic id...</td>\n    </tr>\n  </tbody>\n</table>\n</div>"
     },
     "metadata": {},
     "execution_count": 22
    }
   ],
   "source": [
    "data_clean = pd.DataFrame(df.transcript.apply(round1))\n",
    "data_clean\n"
   ]
  },
  {
   "cell_type": "code",
   "execution_count": 23,
   "metadata": {},
   "outputs": [
    {
     "output_type": "execute_result",
     "data": {
      "text/plain": "my and i thought well thats the opposite of what we should have people doing so i decided to try and change itnow how many of you all work at nonprofits now how many of you have volunteered at a nonprofit you all should just raise your hand on that second one that ones pretty much are you a nice person well yes i am there was that one timeso and this is where my wife evelyn starts to come in because i went to her i was a pretty normal guy when we met i was working at a small company and i come home and im like hey i want to quit my job and start this nonprofit to help train entrepreneurs to create jobs around the countryand so how do you start a nonprofit the way i started venture for america was i founded a i put some of our savings into it and then i started calling rich friends with this question do you love america the smart among them said what does it mean if i say yes and i said at least and of them said i love america for that much i was like i thought you did so we started with a couple hundred thousand it grows and grows eventually over seven years running this nonprofit we helped create several thousand jobs in cities around the country it was so successful that i was honored by the obama administration multiple times so i got to bring evelyn to meet the president my inlaws were very excited about me that week they were like she did alright you should check out the picturebut during my seven years traveling the midwest and the south as ceo of venture for america i saw so many parts of the country i had not seen before how many of you grew up here in iowa how about the northeast like me or the east coast west coast southso i had never been to missouri or alabama or louisiana or even ohio prior to running venture for america and i was staggered by the gulf between regions in this country where if you fly in between st louis and san francisco or michigan and manhattan you feel like youre crossing decades and dimensions and ways of life and not just traveling a few time zonesbut i was still stunned when donald trump became our president in i know you all remember that night well how did you react when donald trump won tears shock disbelief someone said bourbon to me it was a giant red flag where tens of millions of our fellow americans decided to take a bet on the narcissist reality tv star as our presidentand even if you reacted with shock or dismay we all have family members and friends and neighbors who celebrated his victory and i know thats the case here in iowa because he won iowa by more than points and this is a purple stateso if you were to turn on cable news that night or really any night since then why would you think that donald trump won and is our president today so i heard russia hilary clinton dnc so relevant i heard facebook go ahead and shout out from the back insecurity emails not a politician fear immigrants despair reality star facebookthese are the reasons that have been presented to us in some kind of mixture and said this is why donald trump won but des moines im a numbers guy i went through the numbers looking for an explanation and i found it we blasted away million manufacturing jobs over the last number of years and where were those jobs based primarily michigan ohio pennsylvania wisconsin missouri and over right here in iowai have been to the towns in iowa that have lost those manufacturing jobs and after the plant or factory closed the shopping district closed people started to leave the school shrank and the community has never recovered i have seen the exact same thing play out in missouri michigan ohio and around the country and unfortunately what we did to those jobs is now shifting to other parts of our economyhow many of you have noticed stores closing around where you live here in iowa and why are those stores closingaudience amazonamazon thats right amazon is soaking up billion in business every single year closing percent of our stores and malls the most common job in the economy is retail clerk the average retail clerk is a woman making between and an hour what is her next job when the store closes how much did amazon pay in federal taxes last yearaudience zerothat is your math iowa billion out percent of your stores and malls closed forever you get zeronow its not just the selfserve kiosks we can see in the mcdonalds or the grocery store or the cvs the changes are more pervasive when you all call the customer service line of a big company and you get the software or bot im sure you do the exact same thing i do which is you pound and say human human human representative representative representative over and over again until someone picks up raise your hand if thats what you do oh yeah we all do thatthat software is terrible as soon as you hear it you think oh man i hope this company still employs a human and you try to get to one but in two or three short years the software is going to sound like this hey andrew hows it going what can i do for you it will be fast seamless peppywhat will that mean for the million americans who work at call centers right now making to an hour how many of you all know a truck driver here in iowa there are million truckers in the country  percent men average age my friends in california are working on robot trucks that can drive themselves a robot truck just transported tons of butter from california to pennsylvania two weeks ago with no human intervention why tons of butter i have no idea but if you google robot butter truck you will see the article and then at the end of the journey there was a giant stack of pancakes in pennsylvaniawhat will the robot trucks mean for the million truckers or the million americans who work at truck stops motels and diners around the country that rely upon the truckers getting out and having a meal every day how many of you have been to iowa in davenport yeah me too they have a really reasonably priced buffet they say that people stop at iowa every day how many people will stop there when the trucks no longer have driversiowa we are in the midst of the greatest economic transformation in the history of our country what experts are calling the fourth industrial revolution when is the last time you heard a politician say the words fourth industrial revolution three seconds ago and i am barely a politician so after trump wins in i go through the facts and figures in i say oh my gosh were scapegoating immigrants for things immigrants have next to nothing to do with were going through this transformative periodso i went to our leaders in dc and i asked them what are we going to do to help our people manage this time this transition and what do you think the folks in dc said to me when i said what are we going to do the three big responses i got from the folks in dc were these no we cannot talk about this no we should study this further and no we must educate and retrain all americans for the jobs of the future how many of you have ever heard something like thatbut im a numbers guy and i looked at the studies so i said to the folks who said were going to educate and retrain everyone i said hey do you want to know what the effectiveness rate of governmentfunded retraining programs were for the manufacturing workers who lost their jobsyou all want to guess what those effectiveness rates were so im anchoring you very low so you know its low but you also know its low because youre human beings and you know what other human beings are like and if you had manufacturing workers walk out of the factory that closed they dont all say alright im ready for my coding skills training and they dont go in being like oh this is what i wanted to do the whole time and six weeks later they arent being like time to get hired by ibm i mean we know thats ridiculousthe reallife success rates of those governmentfunded retraining programs were between and percent almost half of the workers who lost their jobs in the manufacturing industry in the midwest never worked again we then saw surges in suicides and drug overdoses in those communities because half of them filed for disability and they did not find new work when i said this to the folks in dc they said well i guess well get better at the retraining programs then and then they went back to their lunchone person in dc said something that brought me here to you all today des moines he said andrew youre in the wrong town no one here will do anything about this because fundamentally this is a town of followers not leaders and the only way that we will do anything about it is if you were to create a wave in other parts of the country and bring that wave crashing down on our heads and i said challenge accepted ill be back in two years so that was two years ago iowa and now we are three weeks away from the wave i know many of you had not heard of me until quite recently how many of you are here because you saw a tv ad not many of you wow we spent a lot of money on those ads its actually quite upsettingits actually fine i prefer when people find out from some other from another human being ideallythis campaign is about taking hold of our government that has now just been completely overrun by the corporate money and return it to us and then rewrite the rules of the century economy to work for you to work for your families to work for communitiesi know if youre here today at some point you heard theres a man running for president who wants to give everyone a month and i know the first time you heard that you thought thats a gimmick thats too good to be true thats not possible but this is not my idea iowa and its not a new ideathomas paine was for this at the founding of the country he called it the citizens dividend for all americans martin luther king whose son i had the privilege of meeting with in atlanta was fighting for this in when he was killed called the guaranteed minimum income we celebrate his birthday every year but we dont actually celebrate what he was fighting for when he dieda thousand economists including milton friedman one of the fathers of modernday economics endorsed this plan in the it was so mainstream it passed the us house of representatives twice in under richard nixon the family assistance plan would have guaranteed every american family a certain level of incomeand then years later one state passed a dividend where now everyone in that state gets between and a year no questions askedand what state is thataudience alaskaand how do they pay for itaudience oiland what is the oil of the centuryaudience technologydata technology ai selfdriving cars and trucks a study just came out that said that our data is worth more than oil how many if you saw that study how many of you got your data check in the mail last monthif our data is now worth billions of dollars a year who is getting all that money facebook amazon google apple and the trilliondollar tech companies that are paying zero or near zero back into our country you see how this is working you have this sense that were being sucked dry because we are being sucked dry and your kids feel like they have to go some place else to access the opportunities that they wanthow many of you are parents like me and my wife evelyn if you have your hand up and you are a parent youve had this sinking feeling at some point in the last number of years that we are leaving our kids a future that is less stable less secure less prosperous than the lives that we have led you know why we feel that way as parents because it is that wayif you were born in the in the united states of america there was a percent chance you were going to be better off than your parents thats the american dream it brought my family here if you were born in the which i see is many of you youre down to a shot and its declining fastthis is why trump won this is why people feel insecure about the future its because were smart its not just climate change its that things are falling apart by the numbers we have to build a trickleup economy from ourselves our people our families and our communities up we have to make the machines work for us instead of all working for the machineso this is what you can all make happen just like that thats why i love being here its because of this power that you have you can take this vision of a trickleup economy to the rest of the country and it will take off like wildfire i just came from new hampshire and theyre waiting for it so big time you know what the third party of new hampshire is its libertarians and they love the freedom dividend its half named after themif we get you our fair share of every amazon sale every google search every facebook ad eventually every robot truck mile and ai work unit we can easily afford a dividend for every american particularly because the money does not disappearwhere will it go after its in your hands how much of it would stay right here in iowa most of it not all of it you might get your own netflix password but most of it would go to nights out and car repairs youve been putting off and daycare expenses and little league signups and local nonprofits and religious organizations it would make us stronger healthier mentally healthier more trusting more optimistic we could get the boot off of everyones throats just like that and we have to do it because were in the midst of this historic transformation of our economy that is pushing more and more of us to the sidelinewere getting these messages all the time about how great things are you see them i know you do corporate profits record high gdp record high headline unemployment looks great but how many of you know that also at record highs in this country right now stress anxiety depression financial insecurity studentloan debts even suicides and drug overdoses suicides and drug overdoses have gotten so bad that they have brought our life expectancy down for the last three years in a rowyou know the last time americas life expectancy declined three years in a row the great depression is a great guess its a little bit earlier than that its the spanish flu of  a global pandemic that killed millions you have to go back a century to find a time in america where our life expectancy started to drop like this this time it is dropping because suicides and drug overdoses have each overtaken vehicle deaths for the first time in historyfor context it is highly unusual in a developed country for your life expectancy to ever go down it ordinarily just keeps going up because youre getting richer stronger healthier but not the united states of america its gone down and then down and then down againso if corporate profits are going up and life expectancy is going down which do you listen to we know which one dc is listening to dc can barely see people and life expectancy dc can just see the dollar signs do you all know that washington dc today is the richest city in our country what do they produce no one knows but business is awfully goodwe need to have term limits for our members of congress when they go to dc their jobs should be to get something done for us and then come home their jobs should not be to crouch there as long as possible and be like oh oh let me stay here a little while longer as your president i will do the peoples business for eight years and then you will never hear from me again and im certainly not going to stay in that town an extra daydonald trump said he wanted to drain the swamp and got a lot of support from many people i want to do something a bit different i want to distribute the swamp what does that mean why do we employ hundreds of thousands of employees in the most expensive city in our country wouldnt it make more sense to move some of those jobs to iowa ohio michigan missouri wed save billions of dollars in costs immediately and i would argue that the decisions that our regulators make would improve because theyd actually live some place normal instead of in dc where theyre just talking to each other all the timeso here are some of the ways we can retake our government and get it working for us theyre telling us how great things are but we can feel theres something wrong going on where you work and live every day and as usual we have it right and the numbers are heading the wrong direction i know how wrong the numbers are because of my own family my wife evelyn is at home with our two boys right now one of whom is autistic how much is her work measured at in our statistics every single day or year thats a zeroand its not just evelyn and stayathome parents like her around the country or caregivers like kyle who are taking care of ailing loved ones or volunteers and activists in our communities who are trying to make them better or coaches and mentors who are trying to make people stronger or percent of the artists who cant actually make ends meet with their creative pursuits or increasingly local journalists we have put local papers out of business over the last number of months how does a democracy function if no one knows whats happening in their communitythese are the things that we claim to value most our families our communities our democracy but we are allowing them to get zeroed out one by one by one this is what you all must change in daysas your president i will go to our bureau of economic analysis and say hey gdp years old and really out of date robot trucks will be very good for gdp and corporate profits theyll be very bad for a lot of people so instead of following this measurement off a cliff i will modernize it to include our own health and life expectancy our mental health and freedom from substance abuse student loan indebtedness and affordability clear air and clean water and environmental sustainability the proportion of americans who can retire in quality circumstancesthese are the real measurements of our progress and as your president i will report them to you every year at the state of the union i will be the first president to use a powerpoint deck at the state of the union if you like that visual you definitely came to the right placewe have to get the measurements right to actually solve the real problems that are plaguing us that helped get donald trump elected the democrats to me are acting like donald trump is the source of all of our problems hes not hes a symptom and we have to cure the disease this is the case you have to take to the rest of the country in a few short weeks des moines we have to let people know that were after the root causes and not just blaming donald trump for problems that were here long before he got to the white housei am not running for president because i dreamt about being president as a kid im running for president because like many of you here in this room tonight im a parent and a patriot i have seen the future that lies ahead for the next generation and it is not something i am willing to acceptdonald trump is our president today because he had a very simple message he said he was going to make america great again and what did hilary clinton say in response americas already great remember that des moines its been a long three years i know but its about to endthat was not the right response because we need to acknowledge the depth and severity and reality of the problems in our communities but then we need real solutions to move our country forward what were donald trumps solutions build a wall turn the clock back bring the old jobs backdes moines we have to do the opposite of these things we have to turn the clock forward we have to accelerate our economy and society to rise to the real challenges of the century we have to evolve in the way we see ourselves and our work and our value i am the ideal candidate for this job because the opposite of donald trump is an asian man who likes maththank youmath is an acronym and what does it stand for make america think harder thats rightthats your job in days it is your job to move this country not left not right but forward'"
     },
     "metadata": {},
     "execution_count": 23
    }
   ],
   "source": [
    "data_clean.transcript.loc['Andrew Yang']"
   ]
  },
  {
   "cell_type": "code",
   "execution_count": null,
   "metadata": {},
   "outputs": [],
   "source": []
  }
 ],
 "metadata": {
  "language_info": {
   "codemirror_mode": {
    "name": "ipython",
    "version": 3
   },
   "file_extension": ".py",
   "mimetype": "text/x-python",
   "name": "python",
   "nbconvert_exporter": "python",
   "pygments_lexer": "ipython3",
   "version": "3.7.4-final"
  },
  "orig_nbformat": 2,
  "kernelspec": {
   "name": "python37464bitapcvirtualenvb3bfdcb9ea95408aba965b43c242237b",
   "display_name": "Python 3.7.4 64-bit ('APC': virtualenv)"
  }
 },
 "nbformat": 4,
 "nbformat_minor": 2
}