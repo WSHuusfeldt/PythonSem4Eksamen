{
 "cells": [
  {
   "cell_type": "code",
   "execution_count": 55,
   "metadata": {
    "tags": [
     "outputPrepend"
    ]
   },
   "outputs": [],
   "source": [
    "import requests\n",
    "import bs4\n",
    "import pickle\n",
    "\n",
    "urls = [\n",
    "    \"https://www.nytimes.com/interactive/2020/01/31/us/politics/pete-buttigieg-campaign-speech.html\",\n",
    "    \"https://www.nytimes.com/interactive/2020/01/31/us/politics/joe-biden-campaign-speech.html\",\n",
    "    \"https://www.nytimes.com/interactive/2020/01/31/us/politics/amy-klobuchar-campaign-speech.html\",\n",
    "    \"https://www.nytimes.com/interactive/2020/01/31/us/politics/bernie-sanders-campaign-speech.html\",\n",
    "    \"https://www.nytimes.com/interactive/2020/01/31/us/politics/elizabeth-warren-campaign-speech.html\",\n",
    "    \"https://www.nytimes.com/interactive/2020/01/31/us/politics/andrew-yang-campaign-speech.html\"]\n",
    "\n",
    "def url_to_transcript(url):\n",
    "    r =  requests.get(url)\n",
    "    soup = bs4.BeautifulSoup(r.text, \"html.parser\")\n",
    "    content = soup.find_all('p', attrs={'class': 'g-body'})\n",
    "    text = \"\"\n",
    "    for txt in content:\n",
    "        text += txt.text\n",
    "    return text\n",
    "\n",
    "democrats = [\"Pete Buttigieg\", \"Joe Biden\", \"Amy Klobuchar\", \"Bernie Sanders\", \"Elizabeth Warren\", \"Andrew Yang\"]\n"
   ]
  },
  {
   "cell_type": "code",
   "execution_count": 51,
   "metadata": {},
   "outputs": [],
   "source": [
    "# Requests to transcripts\n",
    "transcripts = [url_to_transcript(u) for u in urls]"
   ]
  },
  {
   "cell_type": "code",
   "execution_count": 56,
   "metadata": {},
   "outputs": [
    {
     "output_type": "stream",
     "name": "stderr",
     "text": "A subdirectory or file transcripts already exists.\n"
    }
   ],
   "source": [
    "# Pickle for later use\n",
    "!mkdir transcripts\n",
    "for i, c in enumerate(democrats):\n",
    "    with open(\"transcripts/\" + c + \".txt\", \"wb\") as file:\n",
    "        pickle.dump(transcripts[i], file)"
   ]
  },
  {
   "cell_type": "code",
   "execution_count": 57,
   "metadata": {},
   "outputs": [],
   "source": [
    "# Read pickle for use\n",
    "data = {}\n",
    "for i, c in enumerate(democrats):\n",
    "    with open(\"transcripts/\" + c + \".txt\", \"rb\") as file:\n",
    "        data[c] = pickle.load(file)"
   ]
  },
  {
   "cell_type": "code",
   "execution_count": 61,
   "metadata": {},
   "outputs": [
    {
     "output_type": "execute_result",
     "data": {
      "text/plain": "'\\n\\tFormer Vice President Joseph R. Biden Jr. casts himself as an exp'"
     },
     "metadata": {},
     "execution_count": 61
    }
   ],
   "source": [
    "#Check if it's usable data\n",
    "data['Joe Biden'][:]"
   ]
  }
 ],
 "metadata": {
  "language_info": {
   "codemirror_mode": {
    "name": "ipython",
    "version": 3
   },
   "file_extension": ".py",
   "mimetype": "text/x-python",
   "name": "python",
   "nbconvert_exporter": "python",
   "pygments_lexer": "ipython3",
   "version": "3.7.6-final"
  },
  "orig_nbformat": 2,
  "kernelspec": {
   "name": "python3",
   "display_name": "Python 3"
  }
 },
 "nbformat": 4,
 "nbformat_minor": 2
}